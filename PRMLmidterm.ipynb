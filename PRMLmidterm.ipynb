{
  "nbformat": 4,
  "nbformat_minor": 0,
  "metadata": {
    "colab": {
      "provenance": []
    },
    "kernelspec": {
      "name": "python3",
      "display_name": "Python 3"
    },
    "language_info": {
      "name": "python"
    }
  },
  "cells": [
    {
      "cell_type": "code",
      "execution_count": null,
      "metadata": {
        "id": "ketuJ7nBQVy0"
      },
      "outputs": [],
      "source": [
        "import pandas as pd\n"
      ]
    },
    {
      "cell_type": "code",
      "source": [
        "raw_data=pd.read_csv('earthquakes-2000-01-01-2023-02-12.csv')\n",
        "#print(raw_data)\n",
        "print(raw_data.columns)\n",
        "print(len(raw_data))"
      ],
      "metadata": {
        "colab": {
          "base_uri": "https://localhost:8080/"
        },
        "id": "S7ydGXBcVe4w",
        "outputId": "2f2167f2-6914-4ab3-dba4-1d2da9a6d69d"
      },
      "execution_count": null,
      "outputs": [
        {
          "output_type": "stream",
          "name": "stdout",
          "text": [
            "Index(['Unnamed: 0', 'time', 'latitude', 'longitude', 'depth', 'mag',\n",
            "       'magType', 'nst', 'gap', 'dmin', 'rms', 'net', 'id', 'updated', 'place',\n",
            "       'type', 'horizontalError', 'depthError', 'magError', 'magNst', 'status',\n",
            "       'locationSource', 'magSource'],\n",
            "      dtype='object')\n",
            "613787\n"
          ]
        }
      ]
    },
    {
      "cell_type": "code",
      "source": [
        "#Filter out specific location (Turkey: latitude:36-43 longitude:25-45)\n",
        "filter_location_data=raw_data.loc[(raw_data['latitude'] > 36)&(raw_data['latitude'] < 43)&(raw_data['longitude'] > 25)&(raw_data['longitude'] < 45)] \n",
        "print(len(filter_location_data))"
      ],
      "metadata": {
        "colab": {
          "base_uri": "https://localhost:8080/"
        },
        "id": "qcKE9wD9WbOa",
        "outputId": "68f106ec-d5fa-4c82-fe57-c08f85387a3c"
      },
      "execution_count": null,
      "outputs": [
        {
          "output_type": "stream",
          "name": "stdout",
          "text": [
            "7571\n"
          ]
        }
      ]
    },
    {
      "cell_type": "code",
      "source": [
        "#Dictionary: https://earthquake.usgs.gov/data/comcat/data-eventterms.php\n",
        "#Filter out by specific columns\n",
        "#Input: depth/magType/gap/dmin/rms/horizontalError\n",
        "#/depthError/magError/magNst/time-period(not process yet)\n",
        "#Output: mag\n",
        "Input_data=filter_location_data.drop(['Unnamed: 0','latitude','longitude','nst','net','type','id','updated','place','status',\n",
        "       'locationSource', 'magSource'], axis=1)\n",
        "print(Input_data.columns)"
      ],
      "metadata": {
        "colab": {
          "base_uri": "https://localhost:8080/"
        },
        "id": "mRw8ZhM4f5sj",
        "outputId": "43fe2ec4-bd82-4f64-f3d5-0625ccd59703"
      },
      "execution_count": null,
      "outputs": [
        {
          "output_type": "stream",
          "name": "stdout",
          "text": [
            "Index(['time', 'depth', 'mag', 'magType', 'gap', 'dmin', 'rms',\n",
            "       'horizontalError', 'depthError', 'magError', 'magNst'],\n",
            "      dtype='object')\n"
          ]
        }
      ]
    },
    {
      "cell_type": "code",
      "source": [
        "#Get time period(not process)\n",
        "print(Input_data.iloc[0]['time'])\n",
        "print(Input_data.iloc[1]['time'])"
      ],
      "metadata": {
        "colab": {
          "base_uri": "https://localhost:8080/"
        },
        "id": "RBYPnZfS1oiu",
        "outputId": "5b1f3039-7811-413c-d1a0-5b1fcab2286e"
      },
      "execution_count": null,
      "outputs": [
        {
          "output_type": "stream",
          "name": "stdout",
          "text": [
            "2000-01-01T05:13:59.100Z\n",
            "2000-01-01T05:17:12.900Z\n"
          ]
        }
      ]
    },
    {
      "cell_type": "code",
      "source": [
        "#Find covariance from mag and depth\n",
        "#depth: 0-30km very shallow earthquakes; 30-70 shallow earthquakes; \n",
        "#70-300 intermediate earthquakes; 300-700 deep earthquakes\n",
        "#Ref: https://www.usgs.gov/programs/earthquake-hazards/determining-depth-earthquake\n",
        "import matplotlib.pyplot as plt\n",
        "import numpy as np\n",
        "plt.scatter(Input_data['depth'],Input_data['mag'])\n",
        "plt.xlabel('depth')\n",
        "plt.ylabel('mag')\n",
        "print('Covariance: ')\n",
        "print(np.cov(Input_data['depth'],Input_data['mag']))\n",
        "print('Correlation: ')\n",
        "print(Input_data[['depth','mag']].corr())\n",
        "#Observation: many earthquakes happen under very shallow depth"
      ],
      "metadata": {
        "colab": {
          "base_uri": "https://localhost:8080/",
          "height": 407
        },
        "id": "J8dLa3P38qSe",
        "outputId": "22026295-ba3c-4c55-ec53-4e88dbec8e34"
      },
      "execution_count": null,
      "outputs": [
        {
          "output_type": "stream",
          "name": "stdout",
          "text": [
            "Covariance: \n",
            "[[4.05700611e+02 4.74072627e-02]\n",
            " [4.74072627e-02 4.11279158e-01]]\n",
            "Correlation: \n",
            "         depth      mag\n",
            "depth  1.00000  0.00367\n",
            "mag    0.00367  1.00000\n"
          ]
        },
        {
          "output_type": "display_data",
          "data": {
            "text/plain": [
              "<Figure size 432x288 with 1 Axes>"
            ],
            "image/png": "[encoded data removed]"
          },
          "metadata": {
            "needs_background": "light"
          }
        }
      ]
    },
    {
      "cell_type": "code",
      "source": [
        "#Find covariance from mag and gap\n",
        "#pad null with median, 1325 rows null before padding\n",
        "#print(Input_data['gap'].isnull().values.sum())#print null number\n",
        "Input_data['gap'] = Input_data['gap'].fillna(Input_data['gap'].median())\n",
        "print(len(Input_data['gap']))\n",
        "print(Input_data['gap'].median())\n",
        "plt.scatter(Input_data['gap'],Input_data['mag'])\n",
        "plt.xlabel('gap')\n",
        "plt.ylabel('mag')\n",
        "print('Covariance: ')\n",
        "print(np.cov(Input_data['gap'],Input_data['mag']))\n",
        "print('Correlation: ')\n",
        "print(Input_data[['gap','mag']].corr())\n",
        "#Observation: Gap and mag seem to correlated.(Smaller gap happens larger earthquake)\n",
        "#Note:In general, the smaller gap, the more reliable is the calculated horizontal position of the earthquake."
      ],
      "metadata": {
        "colab": {
          "base_uri": "https://localhost:8080/",
          "height": 443
        },
        "id": "BMkVoOorA-Qh",
        "outputId": "0667366f-d65e-44c4-d820-e1ee1ebd35e9"
      },
      "execution_count": null,
      "outputs": [
        {
          "output_type": "stream",
          "name": "stdout",
          "text": [
            "7571\n",
            "112.0\n",
            "Covariance: \n",
            "[[ 3.23045722e+03 -2.08809201e+01]\n",
            " [-2.08809201e+01  4.11279158e-01]]\n",
            "Correlation: \n",
            "          gap       mag\n",
            "gap  1.000000 -0.572861\n",
            "mag -0.572861  1.000000\n"
          ]
        },
        {
          "output_type": "display_data",
          "data": {
            "text/plain": [
              "<Figure size 432x288 with 1 Axes>"
            ],
            "image/png": "[encoded data removed]"
          },
          "metadata": {
            "needs_background": "light"
          }
        }
      ]
    },
    {
      "cell_type": "code",
      "source": [
        "#Find covariance from mag and dmin\n",
        "#pad null with 7, 6525 rows null before padding\n",
        "print(len(Input_data['dmin']))\n",
        "print(Input_data['dmin'].isnull().values.sum())#print null number\n",
        "Input_data['dmin'] = Input_data['dmin'].fillna(7)\n",
        "plt.scatter(Input_data['dmin'],Input_data['mag'])\n",
        "plt.xlabel('dmin')\n",
        "plt.ylabel('mag')\n",
        "print('Covariance: ')\n",
        "print(np.cov(Input_data['dmin'],Input_data['mag']))\n",
        "print('Correlation: ')\n",
        "print(Input_data[['dmin','mag']].corr())\n",
        "#Observation: dmin and mag seem to correlated.(earthquake mainly concentrate between dmin 0.4-1.8)\n",
        "#print(Input_data.groupby('mag')['dmin'].agg('median').sort_values())"
      ],
      "metadata": {
        "colab": {
          "base_uri": "https://localhost:8080/",
          "height": 443
        },
        "id": "JpQqh_WlRz_k",
        "outputId": "b1fe56cd-32ed-435c-8c81-5cd5cdd3759d"
      },
      "execution_count": null,
      "outputs": [
        {
          "output_type": "stream",
          "name": "stdout",
          "text": [
            "7571\n",
            "6525\n",
            "Covariance: \n",
            "[[ 4.33849517 -0.65618814]\n",
            " [-0.65618814  0.41127916]]\n",
            "Correlation: \n",
            "          dmin       mag\n",
            "dmin  1.000000 -0.491236\n",
            "mag  -0.491236  1.000000\n"
          ]
        },
        {
          "output_type": "display_data",
          "data": {
            "text/plain": [
              "<Figure size 432x288 with 1 Axes>"
            ],
            "image/png": "[encoded data removed]"
          },
          "metadata": {
            "needs_background": "light"
          }
        }
      ]
    },
    {
      "cell_type": "code",
      "source": [
        "#Find covariance from mag and rms\n",
        "#pad null with 2.5, 5616 rows null before padding\n",
        "print(Input_data['rms'].isnull().values.sum())#print null number\n",
        "Input_data['rms'] = Input_data['rms'].fillna(Input_data['rms'].max())\n",
        "plt.scatter(Input_data['rms'],Input_data['mag'])\n",
        "plt.xlabel('rms')\n",
        "plt.ylabel('mag')\n",
        "print('Covariance: ')\n",
        "print(np.cov(Input_data['rms'],Input_data['mag']))\n",
        "print('Correlation: ')\n",
        "print(Input_data[['rms','mag']].corr())\n",
        "#Observation: rms and mag seem to correlated.(most earthquakes happen between 0.4-1.5)"
      ],
      "metadata": {
        "colab": {
          "base_uri": "https://localhost:8080/",
          "height": 425
        },
        "id": "BOvCWCRuTYZ3",
        "outputId": "f9d1ce5b-d8cd-4a52-deaf-de29beb8f913"
      },
      "execution_count": null,
      "outputs": [
        {
          "output_type": "stream",
          "name": "stdout",
          "text": [
            "5616\n",
            "Covariance: \n",
            "[[ 0.51279008 -0.27764646]\n",
            " [-0.27764646  0.41127916]]\n",
            "Correlation: \n",
            "         rms      mag\n",
            "rms  1.00000 -0.60458\n",
            "mag -0.60458  1.00000\n"
          ]
        },
        {
          "output_type": "display_data",
          "data": {
            "text/plain": [
              "<Figure size 432x288 with 1 Axes>"
            ],
            "image/png": "[encoded data removed]"
          },
          "metadata": {
            "needs_background": "light"
          }
        }
      ]
    },
    {
      "cell_type": "code",
      "source": [
        "#Find covariance from mag and horizontalError\n",
        "print(Input_data['horizontalError'].isnull().values.sum())#print null number\n",
        "Input_data['horizontalError'] = Input_data['horizontalError'].fillna(Input_data['horizontalError'].max())\n",
        "plt.scatter(Input_data['horizontalError'],Input_data['mag'])\n",
        "plt.xlabel('horizontalError')\n",
        "plt.ylabel('mag')\n",
        "print('Covariance: ')\n",
        "print(np.cov(Input_data['horizontalError'],Input_data['mag']))\n",
        "print('Correlation: ')\n",
        "print(Input_data[['horizontalError','mag']].corr())\n",
        "#Observation: horizontalError and mag seem to correlated.(most earthquakes happen between 1-8)"
      ],
      "metadata": {
        "colab": {
          "base_uri": "https://localhost:8080/",
          "height": 425
        },
        "id": "jfIgbprQYrql",
        "outputId": "9fdf376c-5f61-4c39-f2ee-7b0a0aee7bed"
      },
      "execution_count": null,
      "outputs": [
        {
          "output_type": "stream",
          "name": "stdout",
          "text": [
            "6448\n",
            "Covariance: \n",
            "[[12.98476399 -1.13607254]\n",
            " [-1.13607254  0.41127916]]\n",
            "Correlation: \n",
            "                 horizontalError      mag\n",
            "horizontalError          1.00000 -0.49161\n",
            "mag                     -0.49161  1.00000\n"
          ]
        },
        {
          "output_type": "display_data",
          "data": {
            "text/plain": [
              "<Figure size 432x288 with 1 Axes>"
            ],
            "image/png": "[encoded data removed]"
          },
          "metadata": {
            "needs_background": "light"
          }
        }
      ]
    },
    {
      "cell_type": "code",
      "source": [
        "#Find covariance from mag and depthError\n",
        "print(Input_data['depthError'].isnull().values.sum())#print null number\n",
        "\n",
        "Input_data['depthError'] = Input_data['depthError'].fillna(Input_data['depthError'].median())\n",
        "plt.scatter(Input_data['depthError'],Input_data['mag'])\n",
        "plt.xlabel('depthError')\n",
        "plt.ylabel('mag')\n",
        "print('Covariance: ')\n",
        "print(np.cov(Input_data['depthError'],Input_data['mag']))\n",
        "print('Correlation: ')\n",
        "print(Input_data[['depthError','mag']].corr())\n"
      ],
      "metadata": {
        "colab": {
          "base_uri": "https://localhost:8080/",
          "height": 425
        },
        "id": "Ip9uSUMbRViq",
        "outputId": "12c3e9cf-83b6-4941-8197-11675eb10512"
      },
      "execution_count": null,
      "outputs": [
        {
          "output_type": "stream",
          "name": "stdout",
          "text": [
            "6115\n",
            "Covariance: \n",
            "[[5.06880218 0.22688242]\n",
            " [0.22688242 0.41127916]]\n",
            "Correlation: \n",
            "            depthError       mag\n",
            "depthError    1.000000  0.157137\n",
            "mag           0.157137  1.000000\n"
          ]
        },
        {
          "output_type": "display_data",
          "data": {
            "text/plain": [
              "<Figure size 432x288 with 1 Axes>"
            ],
            "image/png": "[encoded data removed]"
          },
          "metadata": {
            "needs_background": "light"
          }
        }
      ]
    },
    {
      "cell_type": "code",
      "source": [
        "#Find covariance from mag and magError\n",
        "print(Input_data['magError'].isnull().values.sum())#print null number\n",
        "Input_data['magError'] = Input_data['magError'].fillna(Input_data['magError'].max())\n",
        "plt.scatter(Input_data['magError'],Input_data['mag'])\n",
        "plt.xlabel('magError')\n",
        "plt.ylabel('mag')\n",
        "print('Covariance: ')\n",
        "print(np.cov(Input_data['magError'],Input_data['mag']))\n",
        "print('Correlation: ')\n",
        "print(Input_data[['magError','mag']].corr())\n"
      ],
      "metadata": {
        "colab": {
          "base_uri": "https://localhost:8080/",
          "height": 425
        },
        "id": "SN6JjqxFXWp_",
        "outputId": "48ab5c09-3539-4507-90dd-e9dc01e29929"
      },
      "execution_count": null,
      "outputs": [
        {
          "output_type": "stream",
          "name": "stdout",
          "text": [
            "6385\n",
            "Covariance: \n",
            "[[ 0.02303679 -0.05096864]\n",
            " [-0.05096864  0.41127916]]\n",
            "Correlation: \n",
            "          magError       mag\n",
            "magError  1.000000 -0.523629\n",
            "mag      -0.523629  1.000000\n"
          ]
        },
        {
          "output_type": "display_data",
          "data": {
            "text/plain": [
              "<Figure size 432x288 with 1 Axes>"
            ],
            "image/png": "[encoded data removed]"
          },
          "metadata": {
            "needs_background": "light"
          }
        }
      ]
    },
    {
      "cell_type": "code",
      "source": [
        "#Find covariance from mag and magNst\n",
        "print(Input_data['magNst'].isnull().values.sum())#print null number\n",
        "Input_data['magNst'] = Input_data['magNst'].fillna(Input_data['magNst'].max())\n",
        "plt.scatter(Input_data['magNst'],Input_data['mag'])\n",
        "plt.xlabel('magNst')\n",
        "plt.ylabel('mag')\n",
        "print('Covariance: ')\n",
        "print(np.cov(Input_data['magNst'],Input_data['mag']))\n",
        "print('Correlation: ')\n",
        "print(Input_data[['magNst','mag']].corr())"
      ],
      "metadata": {
        "colab": {
          "base_uri": "https://localhost:8080/",
          "height": 425
        },
        "id": "Dhy6YpKvaQbM",
        "outputId": "b3ad144a-3e39-4ccb-ef5b-ec5d2f3064d4"
      },
      "execution_count": null,
      "outputs": [
        {
          "output_type": "stream",
          "name": "stdout",
          "text": [
            "5350\n",
            "Covariance: \n",
            "[[ 4.99286531e+04 -9.55403037e+01]\n",
            " [-9.55403037e+01  4.11279158e-01]]\n",
            "Correlation: \n",
            "         magNst      mag\n",
            "magNst  1.00000 -0.66672\n",
            "mag    -0.66672  1.00000\n"
          ]
        },
        {
          "output_type": "display_data",
          "data": {
            "text/plain": [
              "<Figure size 432x288 with 1 Axes>"
            ],
            "image/png": "[encoded data removed]"
          },
          "metadata": {
            "needs_background": "light"
          }
        }
      ]
    },
    {
      "cell_type": "code",
      "source": [
        "#Build Bayesian Linear Regression\n",
        "from scipy.stats import multivariate_normal, norm\n",
        "from numpy.random import seed, uniform, randn\n",
        "from numpy.linalg import inv\n",
        "from sklearn.model_selection import train_test_split"
      ],
      "metadata": {
        "id": "nr-miVCzbNs2"
      },
      "execution_count": null,
      "outputs": []
    },
    {
      "cell_type": "code",
      "source": [
        "#Split data\n",
        "Split_dataX=Input_data.drop(['time','mag', 'magType'], axis=1)\n",
        "Split_dataY=Input_data['mag']\n",
        "trainX, testX = train_test_split(Split_dataX, test_size=0.1,shuffle=False)\n",
        "trainY, testY = train_test_split(Split_dataY, test_size=0.1,shuffle=False)\n",
        "print(trainX.columns)\n",
        "print(testX.head())\n",
        "print(testY.head())\n",
        "#Split data end"
      ],
      "metadata": {
        "colab": {
          "base_uri": "https://localhost:8080/"
        },
        "id": "KZJdwCEiC6Fn",
        "outputId": "c683afb6-2d89-45b0-e7a3-c773522439a0"
      },
      "execution_count": null,
      "outputs": [
        {
          "output_type": "stream",
          "name": "stdout",
          "text": [
            "Index(['depth', 'gap', 'dmin', 'rms', 'horizontalError', 'depthError',\n",
            "       'magError', 'magNst'],\n",
            "      dtype='object')\n",
            "        depth    gap   dmin   rms  horizontalError  depthError  magError  \\\n",
            "496514  10.00  103.0  1.696  0.74              4.1         1.3     0.076   \n",
            "497015  10.00   85.0  0.547  1.38              4.0         2.0     0.085   \n",
            "497125  10.00   86.0  1.023  0.73              4.2         1.9     0.142   \n",
            "497763  73.67   42.0  0.608  0.67              5.5         5.8     0.053   \n",
            "497879  47.70   41.0  0.149  0.89              6.8         4.1     0.058   \n",
            "\n",
            "        magNst  \n",
            "496514    23.0  \n",
            "497015    18.0  \n",
            "497125    14.0  \n",
            "497763   110.0  \n",
            "497879    29.0  \n",
            "496514    3.7\n",
            "497015    3.4\n",
            "497125    4.3\n",
            "497763    4.8\n",
            "497879    5.1\n",
            "Name: mag, dtype: float64\n"
          ]
        }
      ]
    },
    {
      "cell_type": "code",
      "source": [
        "#Test data start\n",
        "#Test_data_input=Input_data.drop(['time','mag', 'magType', 'rms', 'horizontalError', 'depthError', 'magError', 'magNst'], axis=1)\n",
        "#print(\"Test_data_input row length: \",len(Test_data_input))\n",
        "#print(Test_data_input.head())\n",
        "#Test_data_ouput=Input_data['mag']\n",
        "#print(\"Test_data_output row length: \",len(Test_data_ouput))\n",
        "#print(Test_data_ouput.head())\n",
        "\n",
        "#Test data end\n",
        "def f(x, a): return a[0] * x[0] + a[1] * x[1] + a[2] * x[2] + a[3] * x[3] + a[4] * x[4] + a[5] * x[5] + a[6] * x[6] + a[7] * x[7] + a[8]\n",
        "def sample_vals(X, T, ix):\n",
        "    \"\"\"\n",
        "    \n",
        "    Returns\n",
        "    -------\n",
        "    Phi: The linear model transormation\n",
        "    t: the target datapoint\n",
        "    \"\"\"\n",
        "    X_numpy=X.to_numpy()\n",
        "    x_in = X_numpy[ix]\n",
        "    #Phi = np.c_[np.ones_like(x_in),x_in]\n",
        "    Phi = np.c_[x_in.reshape(1,8),[[1.0]]].T\n",
        "    T_numpy=T.to_numpy()\n",
        "    t = T_numpy[[ix]].reshape(1,1)\n",
        "    return Phi, t\n",
        "def posterior_w(phi, t, S0, m0):\n",
        "    \"\"\"\n",
        "    Compute the posterior distribution of \n",
        "    a Gaussian with known precision and conjugate\n",
        "    prior a gaussian\n",
        "    \n",
        "    Parameters\n",
        "    ----------\n",
        "    phi: np.array(N, M)\n",
        "    t: np.array(N, 1)\n",
        "    S0: np.array(M, M)\n",
        "        The prior covariance matrix\n",
        "    m0: np.array(M, 1)\n",
        "        The prior mean vector\n",
        "    \"\"\"\n",
        "    SN = inv(inv(S0) + beta * Phi.T @ Phi)\n",
        "    mN = SN @ (inv(S0) @ m0 + beta * Phi @ t)\n",
        "    return SN, mN\n",
        "def check_convergence(coef_old, coef_new, tol, iters, max_iteration):\n",
        "    coef_change = np.abs(coef_old - coef_new)\n",
        "    return not (np.any(coef_change>tol) and iters < max_iteration)\n",
        "def Bayesian_predic(coef,input):\n",
        "    output = f(input, coef)\n",
        "    return output\n",
        "sigma = 0.2\n",
        "#beta = (1 / sigma) ** 2 # precision\n",
        "#alpha = 2\n",
        "beta=0.0007\n",
        "alpha=0.0001\n",
        "SN = np.eye(9) * alpha\n",
        "mN = np.zeros((9, 1))\n",
        "#print(\"Prior parameter\")\n",
        "#print(\"S0:\")\n",
        "#print(SN)\n",
        "#print(\"m0:\", mN)\n",
        "Iteration=len(trainX) #len(Test_data_input)\n",
        "tolerance=0.00001\n",
        "coefs_converged=False\n",
        "itc=1\n",
        "for itc in range(0, Iteration):\n",
        "  #Get phi (input and w0) and t (output)\n",
        "  Phi, t = sample_vals(trainX, trainY, itc)#sample_vals(Test_data_input, Test_data_ouput, itc)\n",
        "  #Get updated SN and mN by posterior_w\n",
        "  mN_old=mN\n",
        "  SN, mN = posterior_w(Phi, t, SN, mN)\n",
        "  #Check if it is converaged\n",
        "  coefs_converged = check_convergence(mN_old, mN, tolerance, itc, Iteration)  \n",
        "  if coefs_converged == True:\n",
        "    print(\"Break for convergence.\")\n",
        "    break\n",
        "if coefs_converged == False: \n",
        "  print(\"No convergence\")\n",
        "print(\"alpha:\",alpha,\" beta\",beta)\n",
        "print(\"After \",itc,\" iterations\")\n",
        "#print(\"SN:\")\n",
        "#print(SN)\n",
        "print(\"mN:\")\n",
        "#print(mN.shape)\n",
        "print(mN)\n",
        "print(\"Predict: \",Bayesian_predic(mN,[10.00,103.0,1.696,0.74,4.1,1.3,0.076,23.0]))\n",
        "print(\"Ground Truth: \",testY.iloc[0])\n",
        "#You can write the large number with alpha = 2 and beta =25 (from hw2)\n",
        "#After tuning for 15 min, beta=0.001 and alpha=0.0001 seem to more make sence\n",
        "#I think there is a better number than 0.001 and 0.0001."
      ],
      "metadata": {
        "colab": {
          "base_uri": "https://localhost:8080/"
        },
        "id": "w9BOREYlHm66",
        "outputId": "b4ef3829-cde6-4936-d4aa-82a83fa84670"
      },
      "execution_count": null,
      "outputs": [
        {
          "output_type": "stream",
          "name": "stdout",
          "text": [
            "Break for convergence.\n",
            "alpha: 0.0001  beta 0.0007\n",
            "After  1220  iterations\n",
            "mN:\n",
            "[[-0.01246334]\n",
            " [ 0.01623005]\n",
            " [-0.01602455]\n",
            " [-0.01750595]\n",
            " [-0.01371692]\n",
            " [-0.0174646 ]\n",
            " [-0.01797261]\n",
            " [ 0.0977219 ]\n",
            " [-0.01783445]]\n",
            "Predict:  [3.6563896]\n",
            "Ground Truth:  3.7\n"
          ]
        }
      ]
    },
    {
      "cell_type": "code",
      "source": [
        "#validation\n",
        "def Get_predic(coef,input):\n",
        "    input_numpy=input.to_numpy()\n",
        "    output=np.arange(len(input_numpy), dtype=float)\n",
        "    for idx in range(len(input_numpy)):\n",
        "      output[idx] = f(input_numpy[idx], coef)\n",
        "    return output\n",
        "test_prediction = testY\n",
        "test_prediction=Get_predic(mN,testX)\n",
        "print(\"Baysian linear Mean Square Error:\")\n",
        "print(np.square(np.subtract(testY,test_prediction)).mean())\n",
        "#validation end"
      ],
      "metadata": {
        "colab": {
          "base_uri": "https://localhost:8080/"
        },
        "id": "9hDMXbg7FOIg",
        "outputId": "dc52b9f1-2191-481d-f734-29fae786ae1e"
      },
      "execution_count": null,
      "outputs": [
        {
          "output_type": "stream",
          "name": "stdout",
          "text": [
            "Baysian linear Mean Square Error:\n",
            "9.445365719225485\n"
          ]
        }
      ]
    },
    {
      "cell_type": "code",
      "source": [
        "#Build regular linear regression\n",
        "from sklearn import linear_model"
      ],
      "metadata": {
        "id": "1wyy7731B0IA"
      },
      "execution_count": null,
      "outputs": []
    },
    {
      "cell_type": "code",
      "source": [
        "regr = linear_model.LinearRegression()\n",
        "regr.fit(trainX, trainY)\n",
        "linear_predicted = regr.predict(testX)\n",
        "#print(linear_predicted)\n",
        "print(\"Regular linear Mean Square Error:\")\n",
        "print(np.square(np.subtract(testY,linear_predicted)).mean())\n",
        "print(f\"slope: {regr.coef_}\")"
      ],
      "metadata": {
        "colab": {
          "base_uri": "https://localhost:8080/"
        },
        "id": "rb0SSExwF8yS",
        "outputId": "026f50a2-4084-4d79-ddec-8a99b6e319c0"
      },
      "execution_count": null,
      "outputs": [
        {
          "output_type": "stream",
          "name": "stdout",
          "text": [
            "Regular linear Mean Square Error:\n",
            "0.21100232341172254\n",
            "slope: [ 8.14561606e-06 -3.47080350e-03  9.15624033e-03 -2.59369422e-01\n",
            "  1.81207083e-02 -8.02094786e-03 -3.16099147e-01 -1.04114138e-03]\n"
          ]
        }
      ]
    }
  ]
}